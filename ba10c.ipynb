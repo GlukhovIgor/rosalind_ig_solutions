{
 "cells": [
  {
   "cell_type": "markdown",
   "id": "3b7045be",
   "metadata": {},
   "source": [
    "## Task ba10c"
   ]
  },
  {
   "cell_type": "code",
   "execution_count": 33,
   "id": "473ef068",
   "metadata": {},
   "outputs": [],
   "source": [
    "import numpy as np\n",
    "import copy"
   ]
  },
  {
   "cell_type": "code",
   "execution_count": 138,
   "id": "86499168",
   "metadata": {},
   "outputs": [],
   "source": [
    "def read_data(fname='rosalind_ba10c.txt'):\n",
    "    with open(fname, 'r') as f:\n",
    "        x = f.readline().strip()\n",
    "        _ = f.readline()\n",
    "        alphabet = f.readline().strip().split()\n",
    "        _ = f.readline()\n",
    "        states = f.readline().strip().split()\n",
    "        _ = f.readline()\n",
    "        _ = f.readline()\n",
    "        transition = [0]*len(states)\n",
    "        for i in range(len(states)):\n",
    "            row = f.readline().strip().split()\n",
    "            state = row[0]\n",
    "            prob_list = [float(x) for x in row[1:]]\n",
    "            transition[i] = np.array(prob_list)\n",
    "        _ = f.readline()\n",
    "        _ = f.readline()\n",
    "        emission = [0]*len(states)\n",
    "        for i in range(len(states)):\n",
    "            row = f.readline().strip().split()\n",
    "            state = row[0]\n",
    "            prob_list = [float(x) for x in row[1:]]\n",
    "            emission[i] = np.array(prob_list)\n",
    "    return x, alphabet, states, np.matrix(transition), np.matrix(emission)"
   ]
  },
  {
   "cell_type": "code",
   "execution_count": 139,
   "id": "cd418ac1",
   "metadata": {},
   "outputs": [],
   "source": [
    "class hmm:\n",
    "    def __init__(self, states, alphabet, transition, emission):\n",
    "        self.states = states\n",
    "        self.alphabet = alphabet\n",
    "        self.start = np.array([1/len(states) for _ in range(len(states))])\n",
    "        self.transition = transition\n",
    "        self.emission = emission\n",
    "\n",
    "    def get_viterbi_path(self, x):\n",
    "        len_hmm = len(x)\n",
    "        num_rows = len(self.states)\n",
    "          \n",
    "        # mapping from observed values to its index\n",
    "        alpha_map = {}\n",
    "        for i, obs in enumerate(self.alphabet):\n",
    "            alpha_map[obs] = i\n",
    "        # mapping from hidden states to its index\n",
    "        states_map = {}\n",
    "        for i, obs in enumerate(self.states):\n",
    "            states_map[i] = obs\n",
    "            \n",
    "        # dyn_var[i] is probability of most probable path up to state[i]\n",
    "        # transition from root to 1st layer(1st observation) \n",
    "        # is determined by start matrix (which is uniform in our case)\n",
    "        dyn_var = np.multiply(self.emission[:, alpha_map[x[0]]].T, self.start)\n",
    "\n",
    "        # scale it\n",
    "        dyn_var = dyn_var / np.sum(dyn_var)\n",
    "        \n",
    "        # init 2 matrices for path matrices that contain hidden path with max prob\n",
    "        old_path, cur_path = np.zeros((len_hmm, num_rows)), np.zeros((len_hmm, num_rows))\n",
    "        old_path[0, :] = list(range(num_rows))\n",
    "        # transition for all the other observations in x\n",
    "        for i in range(1, len_hmm):\n",
    "            obs_idx = alpha_map[x[i]]\n",
    "            cur_transition = np.multiply(dyn_var, self.transition.T)\n",
    "            dyn_tmp = np.multiply(cur_transition, self.emission[:, obs_idx])\n",
    "            \n",
    "            #find max for each row\n",
    "            dyn_var = dyn_tmp.max(axis=1).T\n",
    "            dyn_var = dyn_var / np.sum(dyn_var)\n",
    "            \n",
    "            #get most probable state\n",
    "            max_states = np.ravel(dyn_tmp.argmax(axis=1).T)\n",
    "            \n",
    "            # update path\n",
    "            for j in range(num_rows):\n",
    "                cur_path[:i, j] = old_path[:i, max_states[j]]\n",
    "\n",
    "            cur_path[i, :] = list(range(num_rows))\n",
    "            old_path = copy.deepcopy(cur_path)\n",
    "        # perform last stage - obtain max probability and use it to get final path\n",
    "#         print(cur_path)\n",
    "#         print(dyn_var)\n",
    "        max_states = np.ravel(dyn_var).argmax()\n",
    "        final_path = cur_path[:, max_states]\n",
    "#         print(final_path)\n",
    "#         print(states_map)\n",
    "        return [states_map[int(i)] for i in final_path]"
   ]
  },
  {
   "cell_type": "code",
   "execution_count": 140,
   "id": "f901160e",
   "metadata": {},
   "outputs": [],
   "source": [
    "def main(fname='rosalind_ba10c.txt'):\n",
    "    x, alphabet, states, transition, emission = read_data(fname)\n",
    "#     print(x, alphabet, states, transition, emission)\n",
    "    model = hmm(states, alphabet, transition, emission)\n",
    "    path = model.get_viterbi_path(x)\n",
    "    print(''.join(path))\n",
    "    return ''.join(path)"
   ]
  },
  {
   "cell_type": "code",
   "execution_count": 141,
   "id": "45954283",
   "metadata": {
    "scrolled": true
   },
   "outputs": [
    {
     "name": "stdout",
     "output_type": "stream",
     "text": [
      "AAABBAAAAA\n"
     ]
    },
    {
     "data": {
      "text/plain": [
       "'AAABBAAAAA'"
      ]
     },
     "execution_count": 141,
     "metadata": {},
     "output_type": "execute_result"
    }
   ],
   "source": [
    "main(fname='sample_data/ba10c/sample.txt')"
   ]
  },
  {
   "cell_type": "code",
   "execution_count": 142,
   "id": "3698c138",
   "metadata": {},
   "outputs": [
    {
     "name": "stdout",
     "output_type": "stream",
     "text": [
      "AB\n"
     ]
    },
    {
     "data": {
      "text/plain": [
       "'AB'"
      ]
     },
     "execution_count": 142,
     "metadata": {},
     "output_type": "execute_result"
    }
   ],
   "source": [
    "main(fname='sample_data/ba10c/sample2.txt')"
   ]
  },
  {
   "cell_type": "code",
   "execution_count": 143,
   "id": "747c6db0",
   "metadata": {},
   "outputs": [
    {
     "name": "stdout",
     "output_type": "stream",
     "text": [
      "AAAAAAAAAAAAAABBBBBBBBBBBAAAAAAAAAAAAAAAAAAAAAAAAAAAAAABBBBBBBBBBBAAAAAAAAAAAAAAAAAAAAABBBBBBBBBBAAA\n"
     ]
    }
   ],
   "source": [
    "res = main(fname='sample_data/ba10c/input.txt')"
   ]
  },
  {
   "cell_type": "code",
   "execution_count": 144,
   "id": "44a4d420",
   "metadata": {},
   "outputs": [
    {
     "name": "stdout",
     "output_type": "stream",
     "text": [
      "AAAAAAAAAAAAAABBBBBBBBBBBAAAAAAAAAAAAAAAAAAAAAAAAAAAAAABBBBBBBBBBBAAAAAAAAAAAAAAAAAAAAABBBBBBBBBBAAA\n",
      "AAAAAAAAAAAAAABBBBBBBBBBBAAAAAAAAAAAAAAAAAAAAAAAAAAAAAABBBBBBBBBBBAAAAAAAAAAAAAAAAAAAAABBBBBBBBBBAAA\n"
     ]
    }
   ],
   "source": [
    "exp = 'AAAAAAAAAAAAAABBBBBBBBBBBAAAAAAAAAAAAAAAAAAAAAAAAAAAAAABBBBBBBBBBBAAAAAAAAAAAAAAAAAAAAABBBBBBBBBBAAA'\n",
    "print(res)\n",
    "print(exp)"
   ]
  },
  {
   "cell_type": "code",
   "execution_count": 147,
   "id": "54047b73",
   "metadata": {},
   "outputs": [],
   "source": [
    "# driver code\n",
    "# main()"
   ]
  }
 ],
 "metadata": {
  "kernelspec": {
   "display_name": "Python 3 (ipykernel)",
   "language": "python",
   "name": "python3"
  },
  "language_info": {
   "codemirror_mode": {
    "name": "ipython",
    "version": 3
   },
   "file_extension": ".py",
   "mimetype": "text/x-python",
   "name": "python",
   "nbconvert_exporter": "python",
   "pygments_lexer": "ipython3",
   "version": "3.9.13"
  }
 },
 "nbformat": 4,
 "nbformat_minor": 5
}
