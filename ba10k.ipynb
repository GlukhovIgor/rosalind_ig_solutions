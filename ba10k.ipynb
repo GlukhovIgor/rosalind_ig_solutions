{
 "cells": [
  {
   "cell_type": "markdown",
   "id": "3b7045be",
   "metadata": {},
   "source": [
    "## Task ba10k"
   ]
  },
  {
   "cell_type": "code",
   "execution_count": 1,
   "id": "473ef068",
   "metadata": {},
   "outputs": [],
   "source": [
    "import numpy as np\n",
    "import copy"
   ]
  },
  {
   "cell_type": "code",
   "execution_count": 21,
   "id": "86499168",
   "metadata": {},
   "outputs": [],
   "source": [
    "def read_data(fname='rosalind_ba10k.txt'):\n",
    "    with open(fname, 'r') as f:\n",
    "        it = int(f.readline().strip())\n",
    "        _ = f.readline()\n",
    "        x = f.readline().strip()\n",
    "        _ = f.readline()\n",
    "        alphabet = f.readline().strip().split()\n",
    "        _ = f.readline()\n",
    "        states = f.readline().strip().split()\n",
    "        _ = f.readline()\n",
    "        _ = f.readline()\n",
    "        transition = [0]*len(states)\n",
    "        for i in range(len(states)):\n",
    "            row = f.readline().strip().split()\n",
    "            state = row[0]\n",
    "            prob_list = [float(x) for x in row[1:]]\n",
    "            transition[i] = np.array(prob_list)\n",
    "        _ = f.readline()\n",
    "        _ = f.readline()\n",
    "        emission = [0]*len(states)\n",
    "        for i in range(len(states)):\n",
    "            row = f.readline().strip().split()\n",
    "            state = row[0]\n",
    "            prob_list = [float(x) for x in row[1:]]\n",
    "            emission[i] = np.array(prob_list)\n",
    "    return it, x, alphabet, states, np.matrix(transition), np.matrix(emission)"
   ]
  },
  {
   "cell_type": "code",
   "execution_count": 90,
   "id": "cd418ac1",
   "metadata": {},
   "outputs": [],
   "source": [
    "class hmm:\n",
    "    def __init__(self, states, alphabet, transition, emission):\n",
    "        self.states = states\n",
    "        self.alphabet = alphabet\n",
    "        self.start = np.matrix([1/len(states) for _ in range(len(states))])\n",
    "        self.transition = transition\n",
    "        self.emission = emission\n",
    "        alpha_map = {}\n",
    "        \n",
    "        for i, obs in enumerate(self.alphabet):\n",
    "            alpha_map[obs] = i\n",
    "        \n",
    "        states_map = {}\n",
    "        for i, obs in enumerate(self.states):\n",
    "            states_map[i] = obs\n",
    "            \n",
    "        self.alpha_map = alpha_map\n",
    "        self.states_map = states_map\n",
    " \n",
    "    def get_forward_prob(self,x):\n",
    "        n_states = self.emission.shape[0]\n",
    "        x_len = len(x)\n",
    "\n",
    "        x_idx = self.alpha_map[x[0]]\n",
    "        fw_prob = np.asmatrix(np.zeros((n_states, x_len)))\n",
    "        scale_mtx = np.asmatrix(np.zeros((x_len, 1)))\n",
    "\n",
    "        fw_prob[:, 0] = (self.emission[:, x_idx].T * self.start.T).T\n",
    "        fw_prob[:, 0] = np.multiply(self.emission[:, x_idx].T, self.start).T\n",
    "        \n",
    "        scale_mtx[0, 0] = 1/np.sum(fw_prob[:, 0])\n",
    "        fw_prob[:, 0] = fw_prob[:, 0] * scale_mtx[0]\n",
    "\n",
    "        for t in range(1,x_len):\n",
    "            x_idx = self.alpha_map[x[t]]\n",
    "            fw_prob[:, t] = (fw_prob[:, t-1].T * self.transition).T            \n",
    "            fw_prob[:, t] = np.multiply(fw_prob[:,t].T, self.emission[:,x_idx].T).T\n",
    "\n",
    "            scale_mtx[t] = 1 / np.sum(fw_prob[:,t])\n",
    "            fw_prob[:, t] = fw_prob[:, t] * scale_mtx[t]\n",
    "        return (fw_prob, scale_mtx)\n",
    "    \n",
    "    def get_backward_prob(self,x,scale_mtx):\n",
    "        n_states = self.emission.shape[0]\n",
    "        x_len = len(x)\n",
    "        \n",
    "        x_idx = self.alpha_map[x[x_len-1]]\n",
    "        bw_prob = np.asmatrix(np.zeros((n_states, x_len)))\n",
    "\n",
    "        bw_prob[:, x_len-1] = scale_mtx[x_len-1]\n",
    "\n",
    "        for t in range(x_len-1, 0,-1):\n",
    "            x_idx = self.alpha_map[x[t]]\n",
    "            bw_prob[:, t-1] = np.multiply(bw_prob[:,t], self.emission[:,x_idx])\n",
    "            bw_prob[:, t-1] = self.transition * bw_prob[:,t-1]\n",
    "            bw_prob[:, t-1] = np.multiply(bw_prob[:, t-1], scale_mtx[t-1])\n",
    "\n",
    "        return bw_prob\n",
    "        \n",
    "    def update_emission(self,x):\n",
    "        new_em = np.asmatrix(np.zeros(self.emission.shape))\n",
    "        n_states = self.emission.shape[0]\n",
    "        x_len = len(x)\n",
    "\n",
    "        selectCols=[]\n",
    "        for i in range(self.emission.shape[1]):\n",
    "            selectCols.append([])\n",
    "        for i in range(len(x)):\n",
    "            selectCols[self.alpha_map[x[i]]].append(i)\n",
    "\n",
    "        fw_prob, scale_mtx = self.get_forward_prob(x)\n",
    "        bw_prob = self.get_backward_prob(x, scale_mtx)\n",
    "\n",
    "        prob_obs_seq = np.sum(fw_prob[:, x_len-1])\n",
    "\n",
    "        delta = np.multiply(fw_prob, bw_prob) / prob_obs_seq \n",
    "        delta = delta / scale_mtx.T\n",
    "    \n",
    "        totalProb = np.sum(delta, axis=1)\n",
    "\n",
    "        for i in range(self.emission.shape[0]):\n",
    "            for j in range(self.emission.shape[1]):\n",
    "                new_em[i,j] = np.sum(delta[i, selectCols[j]]) / totalProb[i]\n",
    "        return new_em\n",
    "    \n",
    "    def update_transition(self,x):\n",
    "        new_trans = np.asmatrix(np.zeros(self.transition.shape))\n",
    "\n",
    "        fw_prob, scale_mtx = self.get_forward_prob(x)\n",
    "        bw_prob = self.get_backward_prob(x, scale_mtx)\n",
    "\n",
    "        for t in range(len(x)-1):\n",
    "            temp1 = np.multiply(fw_prob[:, t], bw_prob[:, t+1].T)\n",
    "            temp1 = np.multiply(self.transition,temp1)\n",
    "            new_trans = new_trans + np.multiply(temp1,\n",
    "                                                self.emission[:, self.alpha_map[x[t+1]]].T)\n",
    "\n",
    "        for i in range(self.transition.shape[0]):\n",
    "            new_trans[i, :] = new_trans[i, :] / np.sum(new_trans[i,:])\n",
    "\n",
    "        return new_trans\n",
    "    \n",
    "    def get_baum_welch_params(self, x, iterations):\n",
    "        for i in range(iterations):\n",
    "            emProbNew = np.matrix(np.zeros((self.emission.shape)))\n",
    "            transProbNew = np.matrix(np.zeros((self.transition.shape)))\n",
    "\n",
    "            emProbNew= emProbNew + self.update_emission(x)\n",
    "            transProbNew = transProbNew + self.update_transition(x)\n",
    "\n",
    "            em_norm = emProbNew.sum(axis=1)\n",
    "            trans_norm = transProbNew.sum(axis=1)\n",
    "\n",
    "            emProbNew = emProbNew / em_norm\n",
    "            transProbNew = transProbNew / trans_norm.T\n",
    "\n",
    "            self.emission, self.transition = emProbNew, transProbNew\n",
    "\n",
    "        return self.transition, self.emission"
   ]
  },
  {
   "cell_type": "code",
   "execution_count": 99,
   "id": "d44c86c4",
   "metadata": {},
   "outputs": [],
   "source": [
    "def print_res(res, states, alphabet):\n",
    "    print('   '.join(states))\n",
    "    trans = np.array(res[0])\n",
    "    em = np.array(res[1])\n",
    "\n",
    "    for i, state in enumerate(states):\n",
    "        row = trans[i]\n",
    "        print(state + '\t' + '\t'.join(\n",
    "            ['{0:.3f}'.format(round(elem, 3)) for elem in np.array(row)]\n",
    "        ))\n",
    "    print('--------')\n",
    "    print('\t'+'\t'.join(alphabet))\n",
    "    for i, state in enumerate(states):\n",
    "        row = em[i]\n",
    "        print(state + '\t' + '\t'.join(\n",
    "            ['{0:.3f}'.format(round(elem, 3)) for elem in np.array(row)]\n",
    "        ))"
   ]
  },
  {
   "cell_type": "code",
   "execution_count": 100,
   "id": "f901160e",
   "metadata": {},
   "outputs": [],
   "source": [
    "def main(fname='rosalind_ba10k.txt'):\n",
    "    it, x, alphabet, states, transition, emission = read_data(fname)\n",
    "#     print(x, alphabet, states, transition, emission)\n",
    "    model = hmm(states, alphabet, transition, emission)\n",
    "    res = model.get_baum_welch_params(x, it)\n",
    "    print_res(res, states, alphabet)\n",
    "#     return res\n"
   ]
  },
  {
   "cell_type": "code",
   "execution_count": 101,
   "id": "45954283",
   "metadata": {
    "scrolled": true
   },
   "outputs": [
    {
     "name": "stdout",
     "output_type": "stream",
     "text": [
      "A   B\n",
      "A\t0.000\t1.000\n",
      "B\t0.786\t0.214\n",
      "--------\n",
      "\tx\ty\tz\n",
      "A\t0.242\t0.000\t0.758\n",
      "B\t0.172\t0.828\t0.000\n"
     ]
    }
   ],
   "source": [
    "res = main(fname='sample_data/ba10k/sample.txt')"
   ]
  },
  {
   "cell_type": "code",
   "execution_count": 102,
   "id": "78f39682",
   "metadata": {},
   "outputs": [
    {
     "name": "stdout",
     "output_type": "stream",
     "text": [
      "A   B   C   D\n",
      "A\t0.000\t0.384\t0.186\t0.430\n",
      "B\t0.989\t0.000\t0.000\t0.011\n",
      "C\t0.000\t0.000\t0.596\t0.404\n",
      "D\t0.403\t0.596\t0.000\t0.001\n",
      "--------\n",
      "\tx\ty\tz\n",
      "A\t0.447\t0.000\t0.553\n",
      "B\t0.032\t0.648\t0.321\n",
      "C\t0.000\t1.000\t0.000\n",
      "D\t0.714\t0.000\t0.286\n"
     ]
    }
   ],
   "source": [
    "main('sample_data/ba10k/input.txt')"
   ]
  },
  {
   "cell_type": "code",
   "execution_count": 105,
   "id": "54047b73",
   "metadata": {},
   "outputs": [],
   "source": [
    "# driver code\n",
    "# main()"
   ]
  }
 ],
 "metadata": {
  "kernelspec": {
   "display_name": "Python 3 (ipykernel)",
   "language": "python",
   "name": "python3"
  },
  "language_info": {
   "codemirror_mode": {
    "name": "ipython",
    "version": 3
   },
   "file_extension": ".py",
   "mimetype": "text/x-python",
   "name": "python",
   "nbconvert_exporter": "python",
   "pygments_lexer": "ipython3",
   "version": "3.9.13"
  }
 },
 "nbformat": 4,
 "nbformat_minor": 5
}
