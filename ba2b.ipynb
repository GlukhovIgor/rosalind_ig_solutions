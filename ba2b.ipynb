{
 "cells": [
  {
   "cell_type": "markdown",
   "id": "adc997ad",
   "metadata": {},
   "source": [
    "## Task ba2b"
   ]
  },
  {
   "cell_type": "code",
   "execution_count": 6,
   "id": "a6addcb7",
   "metadata": {},
   "outputs": [],
   "source": [
    "import itertools"
   ]
  },
  {
   "cell_type": "code",
   "execution_count": 17,
   "id": "dc581f27",
   "metadata": {},
   "outputs": [],
   "source": [
    "def read_data(fname='rosalind_ba2b.txt'):\n",
    "    with open(fname, 'r') as f:\n",
    "        out = [elem.strip() for elem in f.readlines()]\n",
    "    k = int(out[0])\n",
    "    dna = out[1:]\n",
    "    return k, dna\n",
    "\n",
    "def HammingDist(s1, s2):\n",
    "    return sum([1 for i in range(len(s1)) if s1[i] != s2[i]])\n",
    "\n",
    "def MinHammingDist(pattern, string):\n",
    "    k = len(pattern)\n",
    "    min_dist = k+1\n",
    "    for i in range(len(string) - k + 1):\n",
    "        cur_kmer = string[i:i+k]\n",
    "        cur_dist = HammingDist(pattern, cur_kmer)\n",
    "        if cur_dist < min_dist:\n",
    "            min_dist = cur_dist\n",
    "    return min_dist\n",
    "\n",
    "def DNA_dist(pattern, dna):\n",
    "    return sum([MinHammingDist(pattern, string) for string in dna])\n",
    "\n",
    "def make_patterns(k):\n",
    "    return [''.join(i) for i in itertools.product([\"A\", 'T', 'G', 'C'], repeat=k)]\n",
    "\n",
    "def main(fname='rosalind_ba2b.txt'):\n",
    "    k, dna = read_data(fname)\n",
    "    patterns_list = make_patterns(k)\n",
    "    best_score, best_pattern = k*len(dna[0]), 'NAN'\n",
    "    for pt in patterns_list:\n",
    "        cur_score = DNA_dist(pt, dna)\n",
    "        if cur_score < best_score:\n",
    "            best_score = cur_score\n",
    "            best_pattern = pt\n",
    "    print(best_pattern)"
   ]
  },
  {
   "cell_type": "code",
   "execution_count": 21,
   "id": "e021d756",
   "metadata": {},
   "outputs": [
    {
     "name": "stdout",
     "output_type": "stream",
     "text": [
      "ACG\n"
     ]
    }
   ],
   "source": [
    "#outputs for debug can be different but code succeeded twice on test data\n",
    "main('sample_data/ba2b/input_2.txt')"
   ]
  },
  {
   "cell_type": "code",
   "execution_count": 22,
   "id": "71e05f4f",
   "metadata": {},
   "outputs": [
    {
     "name": "stdout",
     "output_type": "stream",
     "text": [
      "['ACG']\n"
     ]
    }
   ],
   "source": [
    "with open('sample_data/ba2b/output_2.txt', 'r') as f:\n",
    "    out = f.readlines() \n",
    "print(out)"
   ]
  },
  {
   "cell_type": "code",
   "execution_count": 23,
   "id": "00557ebe",
   "metadata": {},
   "outputs": [],
   "source": [
    "#driver code\n",
    "# main()"
   ]
  }
 ],
 "metadata": {
  "kernelspec": {
   "display_name": "Python 3 (ipykernel)",
   "language": "python",
   "name": "python3"
  },
  "language_info": {
   "codemirror_mode": {
    "name": "ipython",
    "version": 3
   },
   "file_extension": ".py",
   "mimetype": "text/x-python",
   "name": "python",
   "nbconvert_exporter": "python",
   "pygments_lexer": "ipython3",
   "version": "3.9.13"
  }
 },
 "nbformat": 4,
 "nbformat_minor": 5
}
