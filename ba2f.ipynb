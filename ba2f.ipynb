{
 "cells": [
  {
   "cell_type": "markdown",
   "id": "aa9a1932",
   "metadata": {},
   "source": [
    "## Task ba2f\n",
    "Disclaimer - tested it multiple times and more often than not 1k iterations is not enough to converge - had to increase iterations as much as i could to fit 5 min mark - so doesn't output correct answer 100% of time"
   ]
  },
  {
   "cell_type": "code",
   "execution_count": 21,
   "id": "b1289f39",
   "metadata": {},
   "outputs": [],
   "source": [
    "import numpy as np\n",
    "from tqdm import tqdm # because usually needed more iteration and i needed to keep track of time"
   ]
  },
  {
   "cell_type": "code",
   "execution_count": 22,
   "id": "a7944840",
   "metadata": {},
   "outputs": [],
   "source": [
    "def read_data(fname='rosalind_ba2f.txt'):\n",
    "    with open(fname, 'r') as f:\n",
    "        out = [elem.strip() for elem in f.readlines()]\n",
    "    k, t = [int(elem) for elem in out[0].split()]\n",
    "    dna = out[1:]\n",
    "    # for debug datasets (they are not /n separated)\n",
    "    if ' ' in dna[0]:\n",
    "        dna = dna[0].split(' ')\n",
    "    return k, t, dna\n",
    "\n",
    "def HammingDist(s1, s2):\n",
    "    return sum([1 for i in range(len(s1)) if s1[i] != s2[i]])\n",
    "\n",
    "def sample_motifs(dna, k):\n",
    "    l = len(dna[0])\n",
    "    t = len(dna)\n",
    "    start_idxs = np.random.random_integers(0, l-k, t)\n",
    "    return [dna[i][start_idxs[i]:start_idxs[i]+k] for i in range(t)]\n",
    "    \n",
    "def get_profile(motifs):\n",
    "    k = len(motifs[0])\n",
    "    t = len(motifs)\n",
    "    \n",
    "    pos_dict = {'A' : 0,\n",
    "               'C': 1,\n",
    "               'G': 2,\n",
    "               'T': 3}\n",
    "    prf = [[0 for j in range(k)] for elem in ['A', 'C', 'G', 'T']]\n",
    "    \n",
    "    for i, motif in enumerate(motifs):\n",
    "        for j, elem in enumerate(motif):\n",
    "            prf[pos_dict[elem]][j] += 1\n",
    "                \n",
    "    return np.array(prf) / t\n",
    "\n",
    "def select_motifs(profile, dna):\n",
    "    k = len(profile[0])\n",
    "    l = len(dna[0])\n",
    "    pos_dict = {'A' : 0,\n",
    "               'C': 1,\n",
    "               'G': 2,\n",
    "               'T': 3}\n",
    "    best_motifs = []\n",
    "    \n",
    "    for string in dna:\n",
    "        cur_best_prob = -1\n",
    "        cur_best_motif = 'idk'\n",
    "        \n",
    "        for i in range(l-k+1):\n",
    "            cur_motif = string[i:i+k]\n",
    "            prob = np.product([profile[pos_dict[elem]][j] for j, elem in enumerate(cur_motif)])\n",
    "            if prob > cur_best_prob:\n",
    "                cur_best_prob = prob\n",
    "                cur_best_motif = cur_motif\n",
    "                \n",
    "        best_motifs.append(cur_best_motif)\n",
    "    return best_motifs\n",
    "\n",
    "def generate_best_motif(profile):\n",
    "    k = len(profile[0])\n",
    "    inv_pos_dict = {0: 'A',\n",
    "               1: 'C',\n",
    "               2: 'G',\n",
    "               3: 'T'}\n",
    "    return ''.join([inv_pos_dict[np.argmax(profile[:, i])] for i in range(k)])\n",
    "\n",
    "def score(motifs, best_motif):\n",
    "    return np.sum([HammingDist(best_motif, motif) for motif in motifs])\n",
    "\n",
    "def randomized_motif_search(dna, k, t):\n",
    "    motifs = sample_motifs(dna, k)\n",
    "    best_motifs = motifs\n",
    "    cur_motifs = motifs\n",
    "    while 1:\n",
    "        profile = get_profile(cur_motifs)\n",
    "        cur_motifs = select_motifs(profile, dna)\n",
    "        best_motif = generate_best_motif(profile)\n",
    "        cur_score = score(cur_motifs, best_motif)\n",
    "        best_score = score(best_motifs, best_motif)\n",
    "        if cur_score < best_score:\n",
    "            best_motifs = cur_motifs\n",
    "        else:\n",
    "            return best_motifs, best_score\n",
    "\n",
    "def main(fname='rosalind_ba2f.txt', n_iter=1000):\n",
    "    np.random.seed(6)\n",
    "    k, t, dna = read_data(fname=fname)\n",
    "    best_iter_motifs, best_iter_score = randomized_motif_search(dna, k, t)\n",
    "    for _ in tqdm(range(1, n_iter)):\n",
    "        cur_iter_motifs, cur_iter_score = randomized_motif_search(dna, k, t)\n",
    "        \n",
    "        if cur_iter_score < best_iter_score:\n",
    "            best_iter_score = cur_iter_score\n",
    "            best_iter_motifs = cur_iter_motifs\n",
    "    for motif in best_iter_motifs:\n",
    "        print(motif)"
   ]
  },
  {
   "cell_type": "code",
   "execution_count": 23,
   "id": "b0c8394b",
   "metadata": {},
   "outputs": [
    {
     "data": {
      "text/plain": [
       "(8,\n",
       " 5,\n",
       " ['CGCCCCTCTCGGGGGTGTTCAGTAAACGGCCA',\n",
       "  'GGGCGAGGTATGTGTAAGTGCCAAGGTGCCAG',\n",
       "  'TAGTACCGAGACCGAAAGAAGTATACAGGCGT',\n",
       "  'TAGATCAAGTTTCAGGTGCACGTCGGTGAACCAA',\n",
       "  'TCCACCAGCTCCACGTGCAATGTTGGCCTA'])"
      ]
     },
     "execution_count": 23,
     "metadata": {},
     "output_type": "execute_result"
    }
   ],
   "source": [
    "# this file is broken on rosalind end\n",
    "read_data(fname='sample_data/ba2f/input_1.txt')"
   ]
  },
  {
   "cell_type": "code",
   "execution_count": 24,
   "id": "d9a94cb5",
   "metadata": {},
   "outputs": [
    {
     "name": "stderr",
     "output_type": "stream",
     "text": [
      "C:\\Users\\gluho\\AppData\\Local\\Temp\\ipykernel_6452\\1321366715.py:17: DeprecationWarning: This function is deprecated. Please call randint(0, 34 + 1) instead\n",
      "  start_idxs = np.random.random_integers(0, l-k, t)\n",
      "100%|█████████████████████████████████████████████████████████████████████████████| 1499/1499 [00:05<00:00, 281.95it/s]"
     ]
    },
    {
     "name": "stdout",
     "output_type": "stream",
     "text": [
      "CGATAA\n",
      "GGTTAA\n",
      "GGTATA\n",
      "GGTTAA\n",
      "GGTTAC\n",
      "GGTTAA\n",
      "GGCCAA\n",
      "GGTTAA\n"
     ]
    },
    {
     "name": "stderr",
     "output_type": "stream",
     "text": [
      "\n"
     ]
    }
   ],
   "source": [
    "main(fname='sample_data/ba2f/input_2.txt', n_iter=1500)"
   ]
  },
  {
   "cell_type": "code",
   "execution_count": 25,
   "id": "ad4cc70e",
   "metadata": {},
   "outputs": [
    {
     "name": "stdout",
     "output_type": "stream",
     "text": [
      "['CGATAA GGTTAA GGTATA GGTTAA GGTTAC GGTTAA GGCCAA GGTTAA']\n"
     ]
    }
   ],
   "source": [
    "with open('sample_data/ba2f/output_2.txt', 'r') as f:\n",
    "    out = f.readlines() \n",
    "print(out)"
   ]
  },
  {
   "cell_type": "code",
   "execution_count": 26,
   "id": "8d4ff2af",
   "metadata": {},
   "outputs": [],
   "source": [
    "#driver code\n",
    "# main(n_iter=1500)"
   ]
  }
 ],
 "metadata": {
  "kernelspec": {
   "display_name": "Python 3 (ipykernel)",
   "language": "python",
   "name": "python3"
  },
  "language_info": {
   "codemirror_mode": {
    "name": "ipython",
    "version": 3
   },
   "file_extension": ".py",
   "mimetype": "text/x-python",
   "name": "python",
   "nbconvert_exporter": "python",
   "pygments_lexer": "ipython3",
   "version": "3.9.13"
  }
 },
 "nbformat": 4,
 "nbformat_minor": 5
}
