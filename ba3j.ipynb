{
 "cells": [
  {
   "cell_type": "markdown",
   "id": "33ad90e8",
   "metadata": {},
   "source": [
    "## Task ba3j\n"
   ]
  },
  {
   "cell_type": "code",
   "execution_count": 1,
   "id": "2ef4f6e1",
   "metadata": {},
   "outputs": [],
   "source": [
    "from collections import defaultdict"
   ]
  },
  {
   "cell_type": "code",
   "execution_count": 2,
   "id": "1e4c3af2",
   "metadata": {},
   "outputs": [],
   "source": [
    "def read_data(fname='rosalind_ba3j.txt'):\n",
    "    with open(fname, 'r') as f:\n",
    "        paired_reads = []\n",
    "        k, d = [int(elem) for elem in f.readline().strip().split()]\n",
    "        for comp in f:\n",
    "            r1, r2 = comp.strip().split('|')\n",
    "            paired_reads.append((r1, r2))\n",
    "    return k, d, paired_reads"
   ]
  },
  {
   "cell_type": "code",
   "execution_count": 3,
   "id": "94b96ab6",
   "metadata": {},
   "outputs": [],
   "source": [
    "def get_adj_mtx(reads):\n",
    "    graph = defaultdict(list)\n",
    "    for p1, p2 in reads:\n",
    "        prefix = (p1[:-1], p2[:-1])\n",
    "        suffix = (p1[1:], p2[1:])\n",
    "        graph[prefix].append(suffix)\n",
    "    return graph\n",
    "\n",
    "def get_origin(graph):\n",
    "    degree = defaultdict(int)\n",
    "    for v in graph:       \n",
    "        degree[v] -= len(graph[v])\n",
    "        for u in graph[v]:\n",
    "            degree[u] += 1   \n",
    "    for v in degree:\n",
    "        if degree[v] == -1:\n",
    "            origin = v  \n",
    "    return origin\n",
    "\n",
    "def get_eulerian_path(graph, origin):\n",
    "    global path\n",
    "    global vertices\n",
    "    if origin not in graph.keys():\n",
    "        path.append(origin)\n",
    "        if len(vertices) == 0: #terminal of recursion\n",
    "            return\n",
    "        else:\n",
    "            next_vert = vertices.pop()\n",
    "            get_eulerian_path(graph, next_vert) \n",
    "    elif len(graph[origin]) == 0:\n",
    "        path.append(origin)\n",
    "        if len(vertices) == 0: #terminal of recursion\n",
    "            return\n",
    "        else:\n",
    "            next_vert = vertices.pop()\n",
    "            get_eulerian_path(graph, next_vert)\n",
    "    else:\n",
    "        vertices.append(origin)\n",
    "        next_vert = graph[origin].pop(0)\n",
    "        get_eulerian_path(graph, next_vert)\n",
    "    return path\n",
    "\n",
    "def get_sequence_from_path(path, k, d):\n",
    "    prefs, suffs = path[0][0], path[0][1]\n",
    "    for p1, p2 in path[1:]:\n",
    "        prefs += p1[-1]\n",
    "        suffs += p2[-1]\n",
    "    seq = prefs + suffs[-(k+d):]\n",
    "    return seq"
   ]
  },
  {
   "cell_type": "code",
   "execution_count": 4,
   "id": "0d03cc71",
   "metadata": {},
   "outputs": [],
   "source": [
    "def main(fname='rosalind_ba3j.txt'):\n",
    "    k, d, reads = read_data(fname)\n",
    "    graph = get_adj_mtx(reads)\n",
    "    origin_vertex = get_origin(graph)\n",
    "    get_eulerian_path(graph, origin_vertex)\n",
    "    path.reverse()\n",
    "    print(get_sequence_from_path(path, k, d))"
   ]
  },
  {
   "cell_type": "code",
   "execution_count": 5,
   "id": "377dda49",
   "metadata": {
    "scrolled": true
   },
   "outputs": [
    {
     "name": "stdout",
     "output_type": "stream",
     "text": [
      "GTGGTCGTGAGATGTTGA\n"
     ]
    }
   ],
   "source": [
    "path, vertices = [], []\n",
    "main('sample_data/ba3j/sample.txt')"
   ]
  },
  {
   "cell_type": "code",
   "execution_count": 6,
   "id": "12368a6a",
   "metadata": {},
   "outputs": [],
   "source": [
    "#driver code\n",
    "# main()"
   ]
  },
  {
   "cell_type": "code",
   "execution_count": null,
   "id": "7077e87e",
   "metadata": {},
   "outputs": [],
   "source": []
  }
 ],
 "metadata": {
  "kernelspec": {
   "display_name": "Python 3 (ipykernel)",
   "language": "python",
   "name": "python3"
  },
  "language_info": {
   "codemirror_mode": {
    "name": "ipython",
    "version": 3
   },
   "file_extension": ".py",
   "mimetype": "text/x-python",
   "name": "python",
   "nbconvert_exporter": "python",
   "pygments_lexer": "ipython3",
   "version": "3.9.13"
  }
 },
 "nbformat": 4,
 "nbformat_minor": 5
}
