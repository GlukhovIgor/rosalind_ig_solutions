{
 "cells": [
  {
   "cell_type": "markdown",
   "id": "1b14f955",
   "metadata": {},
   "source": [
    "## Task ba6d\n",
    "based a bit on this video and its later - https://www.youtube.com/watch?v=naovHyR0eEg"
   ]
  },
  {
   "cell_type": "code",
   "execution_count": 1,
   "id": "cfd1d7e1",
   "metadata": {},
   "outputs": [],
   "source": [
    "from collections import defaultdict"
   ]
  },
  {
   "cell_type": "code",
   "execution_count": 51,
   "id": "fc0de78c",
   "metadata": {},
   "outputs": [],
   "source": [
    "def read_data(fname='rosalind_ba6d.txt'):\n",
    "    with open(fname, 'r') as f:\n",
    "        p = [int(elem) for elem in (f.readline().rstrip()[1:-1].split())]\n",
    "        q = [int(elem) for elem in (f.readline().rstrip()[1:-1].split())]\n",
    "    return p, q"
   ]
  },
  {
   "cell_type": "code",
   "execution_count": 52,
   "id": "485a9ccf",
   "metadata": {},
   "outputs": [],
   "source": [
    "def get_adj_mtx(p):\n",
    "    # make a graph out of circular chromosome - treat each element as directed edge (plus and minus sides)\n",
    "    # edges between elements are undirected\n",
    "    graph = defaultdict(list)\n",
    "    for i, elem in enumerate(p[:-1]):\n",
    "        next_elem = p[i+1]\n",
    "        graph[elem].append(-next_elem)\n",
    "        graph[-next_elem].append(elem)\n",
    "    # connect the circle\n",
    "    graph[p[-1]].append(-p[0])\n",
    "    graph[-p[0]].append(p[-1])\n",
    "    return graph"
   ]
  },
  {
   "cell_type": "code",
   "execution_count": 53,
   "id": "3cb79b82",
   "metadata": {},
   "outputs": [],
   "source": [
    "def get_breakpoint_graph(g_p, g_q):\n",
    "    # since synteny blocks are the same we just combine (superimpose) edges\n",
    "    g_br = defaultdict(list)\n",
    "    for elem in g_p:\n",
    "        g_br[elem] = g_p[elem] + g_q[elem]\n",
    "    return g_br"
   ]
  },
  {
   "cell_type": "code",
   "execution_count": 134,
   "id": "9794161a",
   "metadata": {},
   "outputs": [],
   "source": [
    "def get_connected_component(g_p, elem, chromosome=True):\n",
    "    q = [elem]\n",
    "    visited = list()\n",
    "    while q:\n",
    "        cur_elem = q.pop(0)\n",
    "        visited.append(cur_elem)\n",
    "        for n in g_p[cur_elem]:\n",
    "            if chromosome:\n",
    "                if -n not in visited:\n",
    "                    q.append(-n)\n",
    "            else:\n",
    "                if n not in visited:\n",
    "                    q.append(n)\n",
    "    return visited if chromosome else list(set(visited))"
   ]
  },
  {
   "cell_type": "code",
   "execution_count": 136,
   "id": "b9b5c4ed",
   "metadata": {},
   "outputs": [],
   "source": [
    "def get_all_connected_components(g):\n",
    "    elems = set(g)\n",
    "    comps = []\n",
    "    while elems:\n",
    "        cur_elem = next(iter(elems))\n",
    "        res = list(set(get_connected_component(g, cur_elem, chromosome=False)))\n",
    "        comps.append(res)\n",
    "        elems -= set(res)\n",
    "    return comps"
   ]
  },
  {
   "cell_type": "code",
   "execution_count": 137,
   "id": "2701ec4c",
   "metadata": {},
   "outputs": [],
   "source": [
    "def get_reconstructed_chromosome(g_p):\n",
    "    \n",
    "    def output_format(lst):\n",
    "        return \"(\" + \" \".join([str(x) if x < 0 else '+' + str(x) for x in lst]) + \")\"\n",
    "\n",
    "    elems = set(g_p)\n",
    "    cycles = []\n",
    "    while elems:\n",
    "        cmp = get_connected_component(g_p, next(iter(elems)))\n",
    "        elems -= set(cmp) | set(-x for x in cmp)\n",
    "        cycles.append(cmp)\n",
    "    return \"\".join([output_format(c) for c in cycles])"
   ]
  },
  {
   "cell_type": "code",
   "execution_count": 138,
   "id": "e18cb8b6",
   "metadata": {},
   "outputs": [],
   "source": [
    "def get_nodes_for_big_componens(g):\n",
    "    # if component is only size 2 (smallest cycle), then we ignore these elements\n",
    "    comps = get_all_connected_components(g)\n",
    "    res = []\n",
    "    for c in comps:\n",
    "        if len(c) > 2:\n",
    "            return c\n",
    "    return []"
   ]
  },
  {
   "cell_type": "code",
   "execution_count": 139,
   "id": "5863254b",
   "metadata": {},
   "outputs": [],
   "source": [
    "def add_edge(g, i, j):\n",
    "    g[i].append(j)\n",
    "    g[j].append(i)\n",
    "\n",
    "\n",
    "def delete_edge(g, i, j):\n",
    "    g[i].remove(j)\n",
    "    g[j].remove(i)"
   ]
  },
  {
   "cell_type": "code",
   "execution_count": 148,
   "id": "f395a883",
   "metadata": {},
   "outputs": [],
   "source": [
    "def apply_2_break(g_p, g_q):\n",
    "    g_br = get_breakpoint_graph(g_p, g_q)\n",
    "    elems = get_nodes_for_big_componens(g_br)\n",
    "    print(get_reconstructed_chromosome(g_p))\n",
    "\n",
    "    while 1:\n",
    "        if len(elems) == 0:\n",
    "            break\n",
    "\n",
    "        # red edge 1\n",
    "        i = g_p[elems[0]][0]\n",
    "        j = elems[0]\n",
    "        # red edge 2\n",
    "        k = g_q[elems[0]][0]\n",
    "        l = g_p[k][0]\n",
    "#         print('i, j, k, l')\n",
    "#         print(i, j, k, l)\n",
    "        # delete red edges\n",
    "        delete_edge(g_p, i, j)\n",
    "        delete_edge(g_p, k, l)\n",
    "        \n",
    "        # add red edges\n",
    "        add_edge(g_p, j, k)\n",
    "        add_edge(g_p, l, i)\n",
    "        \n",
    "        print(get_reconstructed_chromosome(g_p))\n",
    "        \n",
    "        g_br = get_breakpoint_graph(g_p, g_q)\n",
    "        elems = get_nodes_for_big_componens(g_br)\n"
   ]
  },
  {
   "cell_type": "code",
   "execution_count": 149,
   "id": "08af641a",
   "metadata": {},
   "outputs": [],
   "source": [
    "def main(fname='rosalind_ba6d.txt'):\n",
    "    p, q = read_data(fname)\n",
    "    g_p = get_adj_mtx(p)\n",
    "    g_q = get_adj_mtx(q)\n",
    "    apply_2_break(g_p, g_q)"
   ]
  },
  {
   "cell_type": "code",
   "execution_count": 155,
   "id": "6bd9c744",
   "metadata": {
    "scrolled": true
   },
   "outputs": [
    {
     "name": "stdout",
     "output_type": "stream",
     "text": [
      "(+1 -2 -3 +4)\n",
      "(+1 +2 -3 +4)\n",
      "(+1 +2 -4 +3)\n",
      "(+1 +2 -4 -3)\n"
     ]
    }
   ],
   "source": [
    "main('sample_data/ba6d/sample.txt')"
   ]
  },
  {
   "cell_type": "code",
   "execution_count": 158,
   "id": "093a25ea",
   "metadata": {},
   "outputs": [],
   "source": [
    "# driver code\n",
    "# main('rosalind_ba6d.txt')"
   ]
  }
 ],
 "metadata": {
  "kernelspec": {
   "display_name": "Python 3 (ipykernel)",
   "language": "python",
   "name": "python3"
  },
  "language_info": {
   "codemirror_mode": {
    "name": "ipython",
    "version": 3
   },
   "file_extension": ".py",
   "mimetype": "text/x-python",
   "name": "python",
   "nbconvert_exporter": "python",
   "pygments_lexer": "ipython3",
   "version": "3.9.13"
  }
 },
 "nbformat": 4,
 "nbformat_minor": 5
}
