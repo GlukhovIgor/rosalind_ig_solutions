{
 "cells": [
  {
   "cell_type": "markdown",
   "id": "62184484",
   "metadata": {},
   "source": [
    "## Task ba9d"
   ]
  },
  {
   "cell_type": "code",
   "execution_count": 1,
   "id": "d2d6cc2a",
   "metadata": {},
   "outputs": [],
   "source": [
    "def read_data(fname='rosalind_ba9d.txt'):\n",
    "    with open(fname, 'r') as f:\n",
    "        s = f.readline().strip()\n",
    "    return s"
   ]
  },
  {
   "cell_type": "code",
   "execution_count": 2,
   "id": "7f4c6a63",
   "metadata": {},
   "outputs": [],
   "source": [
    "def get_list_of_suffixes(s):\n",
    "    # return suffix as well as its index and 2 placeholders for 2 rank variables\n",
    "    return [s[i:] for i in range(len(s))]"
   ]
  },
  {
   "cell_type": "code",
   "execution_count": 47,
   "id": "dba82cfa",
   "metadata": {},
   "outputs": [],
   "source": [
    "class Node(object):\n",
    "    def __init__(self, level=0, parent=None):\n",
    "        self.value = {}\n",
    "        self.parent = parent\n",
    "        self.children = {}\n",
    "        if parent is not None:\n",
    "            self.level = self.parent.level+1\n",
    "    def set_parent(self, parent):\n",
    "        self.parent = parent\n",
    "        self.level = self.parent.level+1\n",
    "        \n",
    "# compressed trie structure (means value can be multiple letters)\n",
    "class Trie(object):\n",
    "    def __init__(self):\n",
    "        self.root = Node(parent=None)\n",
    "        self.root.level = 0\n",
    "        \n",
    "    def insert(self, word):\n",
    "        cur_node = self.root\n",
    "        i = 0\n",
    "        \n",
    "        while i < len(word) and word[i] in cur_node.value:\n",
    "            j = 0\n",
    "            idx = word[i]\n",
    "            val = cur_node.value[idx]\n",
    "\n",
    "            while j < len(val) and i < len(word) and val[j] == word[i]:\n",
    "                i += 1\n",
    "                j += 1\n",
    "                \n",
    "            if j == len(val):\n",
    "                cur_node = cur_node.children[idx]\n",
    "                cur_node.parent = cur_node\n",
    "            else:\n",
    "                if i != len(word):\n",
    "                    rest_val = val[j:]\n",
    "                    rest_word = word[i:]\n",
    "                    \n",
    "                    new_node = Node(parent=cur_node)\n",
    "                    ex_child = cur_node.children[idx]\n",
    "                    cur_node.value[idx] = val[:j]\n",
    "                    cur_node.children[idx] = new_node\n",
    "                    new_node.children[rest_val[0]] = ex_child\n",
    "                    new_node.children[rest_val[0]].set_parent(new_node)\n",
    "                    new_node.value[rest_val[0]] = rest_val\n",
    "                    new_node.value[rest_word[0]] = rest_word\n",
    "                    new_node.children[rest_word[0]] = Node(parent=new_node)\n",
    "                    new_node.children[rest_word[0]].set_parent(new_node)\n",
    "#                     print(new_node.level, new_node.children[rest_val[0]].level)\n",
    "#                     print(new_node.level, new_node.children[rest_word[0]].level)\n",
    "#                     print(cur_node.level, cur_node.children[idx].level)\n",
    "\n",
    "                else:\n",
    "                    ex_child = cur_node.children[idx]\n",
    "                    new_node = Node(parent=cur_node)\n",
    "                    rest_val = val[j:]\n",
    "                    cur_node.value[idx] = val[:j]\n",
    "                    cur_node.children[idx] = new_node\n",
    "                    cur_node.children[idx].set_parent(cur_node)\n",
    "\n",
    "#                     ex_child.level = ex_child.level + 1\n",
    "                    new_node.children[rest_val[0]] = ex_child\n",
    "                    new_node.value[rest_val[0]] = rest_val\n",
    "                    new_node.children[rest_val[0]].set_parent(new_node)\n",
    "#                     print(new_node.level, cur_node.level)\n",
    "#                     print(cur_node.level, cur_node.children[idx].level)\n",
    "\n",
    "                return\n",
    "\n",
    "        if i < len(word):            \n",
    "            cur_node.value[word[i]] = word[i:]\n",
    "            cur_node.children[word[i]] = Node(parent=cur_node)\n",
    "#             print(cur_node.level, cur_node.children[word[i]].level)\n",
    "#             if cur_node.children[word[i]].level == 3:\n",
    "#                 print(cur_node.value, cur_node.children[word[i]].value)\n",
    "\n",
    "    def reduce_level(self, node):\n",
    "        node.level = node.level - 1\n",
    "        if node.children != {}:\n",
    "            for k, child in node.children.items():\n",
    "                self.reduce_level(child)\n",
    "\n",
    "    def _compress_tree(self, node, k):\n",
    "        if node.children == {}:\n",
    "            return\n",
    "        if len(list(node.children.values())) > 1:\n",
    "            for k, child in node.children.items():\n",
    "                self._compress_tree(child, k)\n",
    "        else:\n",
    "            k2 = list(node.children.keys())[0]\n",
    "            child = node.children[k2]\n",
    "            node.parent.value[k] = node.parent.value[k] + node.value[k2]\n",
    "            node.parent.children[k] = child\n",
    "            self.reduce_level(child)\n",
    "            node.parent.children[k].set_parent(node.parent)\n",
    "            self._compress_tree(node, k2)\n",
    "            \n",
    "    def compress_tree(self):\n",
    "        return self._compress_tree(self.root, None)\n",
    "\n",
    "    def _print_tree(self, node):\n",
    "        \n",
    "        if node.children == {}:\n",
    "            print(node.level, node.value)\n",
    "        else:\n",
    "            for child in node.children.values():\n",
    "                print(child.level, child.value)\n",
    "                self._print_tree(child)\n",
    "                \n",
    "    def print_tree(self):\n",
    "        print(self.root.level, self.root.value)\n",
    "        # fix some cases where level is incorrect:\n",
    "        self._print_tree(self.root)\n",
    "        \n",
    "    def _validate(self, node):\n",
    "        \n",
    "        if node.children == {}:\n",
    "            if node.level == node.parent.level:\n",
    "                node.level = node.level + 1\n",
    "        else:\n",
    "            for child in node.children.values():\n",
    "                self._validate(child)\n",
    "                \n",
    "    def validate(self):\n",
    "        # fix some cases where level is incorrect:\n",
    "        self._validate(self.root)\n",
    "        \n",
    "    def insert_list(self, lst):\n",
    "        for word in lst:\n",
    "            self.insert(word)\n",
    "        self.validate()\n",
    "\n",
    "    def find(self, word):\n",
    "        \"\"\"\n",
    "        Returns if the word is in the trie.\n",
    "        :type word: str\n",
    "        :rtype: bool\n",
    "        \"\"\"\n",
    "        i = 0\n",
    "        cur_node = self.root\n",
    "\n",
    "        while i < len(word) and word[i] in cur_node.value:\n",
    "            j = 0\n",
    "            idx = word[i]\n",
    "            val = cur_node.value[idx]\n",
    "\n",
    "            while j < len(val) and i < len(word):\n",
    "                if word[i] != val[j]:\n",
    "                    return False\n",
    "                i += 1\n",
    "                j += 1\n",
    "\n",
    "            if j == len(val) and len(word) >= i:\n",
    "                cur_node = cur_node.children[idx]\n",
    "            else:\n",
    "                return False\n",
    "\n",
    "        return i == len(word) and cur_node.leaf\n",
    "    \n",
    "    def get_paths_recursive(self, node, prev_path):\n",
    "        global paths\n",
    "        if node.value == {}:\n",
    "#             paths.append((prev_path, node.level))\n",
    "            return \n",
    "        for k, next_node in node.children.items():\n",
    "            paths.append((prev_path, next_node.level))\n",
    "            if next_node.value != {}:\n",
    "                self.get_paths_recursive(next_node, prev_path + node.value[k])\n",
    "    \n",
    "    def get_deepest_path(self):\n",
    "        cur_node = self.root\n",
    "        global paths\n",
    "        paths = []\n",
    "        self.get_paths_recursive(cur_node, '')\n",
    "#         print(paths)\n",
    "        return sorted(paths, key=lambda x: (len(x[0]), x[1]))[-1][0]\n",
    "        "
   ]
  },
  {
   "cell_type": "code",
   "execution_count": 48,
   "id": "10411d37",
   "metadata": {},
   "outputs": [],
   "source": [
    "def main(fname='rosalind_ba9d.txt'):\n",
    "    s = read_data(fname)\n",
    "    suf_lst = get_list_of_suffixes(s+'$')\n",
    "    trie = Trie()\n",
    "    trie.insert_list(suf_lst)\n",
    "#     trie.print_tree()\n",
    "    trie.compress_tree()\n",
    "#     trie.print_tree()\n",
    "    print(trie.get_deepest_path())\n",
    "    return trie"
   ]
  },
  {
   "cell_type": "code",
   "execution_count": 49,
   "id": "ac47d988",
   "metadata": {
    "scrolled": true
   },
   "outputs": [
    {
     "name": "stdout",
     "output_type": "stream",
     "text": [
      "TATCGTT\n"
     ]
    }
   ],
   "source": [
    "tr = main('sample_data/ba9d/sample.txt')"
   ]
  },
  {
   "cell_type": "code",
   "execution_count": 50,
   "id": "8763d4f7",
   "metadata": {
    "scrolled": true
   },
   "outputs": [
    {
     "name": "stdout",
     "output_type": "stream",
     "text": [
      "GAGAG\n"
     ]
    }
   ],
   "source": [
    "tr = main('sample_data/ba9d/input_2.txt')"
   ]
  },
  {
   "cell_type": "code",
   "execution_count": 52,
   "id": "095fdd24",
   "metadata": {
    "scrolled": true
   },
   "outputs": [
    {
     "name": "stdout",
     "output_type": "stream",
     "text": [
      "0 {'G': 'G', 'A': 'AG', '$': '$'}\n",
      "1 {'A': 'AG', '$': '$'}\n",
      "2 {'A': 'AG', '$': '$'}\n",
      "2 {'A': 'AG$', '$': '$'}\n",
      "3 {}\n",
      "3 {}\n",
      "3 {}\n",
      "3 {}\n",
      "3 {}\n",
      "3 {}\n",
      "2 {}\n",
      "2 {}\n",
      "1 {'A': 'AG', '$': '$'}\n",
      "2 {'A': 'AG$', '$': '$'}\n",
      "3 {}\n",
      "3 {}\n",
      "3 {}\n",
      "3 {}\n",
      "2 {}\n",
      "2 {}\n",
      "1 {}\n",
      "1 {}\n"
     ]
    }
   ],
   "source": [
    "tr.print_tree()"
   ]
  },
  {
   "cell_type": "code",
   "execution_count": 54,
   "id": "2bd13b34",
   "metadata": {
    "scrolled": true
   },
   "outputs": [
    {
     "name": "stdout",
     "output_type": "stream",
     "text": [
      "-------------------------\n",
      "TATCGTT\n",
      "TATCGTT\n",
      "-------------------------\n",
      "GAGAG\n",
      "GAGAG\n",
      "-------------------------\n",
      "AG or CT (you will not be penalized for having one over the other, but make sure you only output one).\n",
      "CT\n",
      "-------------------------\n",
      "AA\n",
      "AA\n",
      "-------------------------\n",
      "nan\n",
      "\n",
      "-------------------------\n",
      "TTTCCATATACGGGACAAGGGTGAGCATTTCCGGGCTTGGATAGGGGCTGCAAGAAAATATCTGGACGTAAGAAG\n",
      "TTTCCATATACGGGACAAGGGTGAGCATTTCCGGGCTTGGATAGGGGCTGCAAGAAAATATCTGGACGTAAGAAG\n"
     ]
    }
   ],
   "source": [
    "for i in range(1, 7):\n",
    "    print('-------------------------')\n",
    "    print(open(f'sample_data/ba9d/output_{i}.txt').readline())\n",
    "    main(f'sample_data/ba9d/input_{i}.txt')\n",
    "    "
   ]
  },
  {
   "cell_type": "code",
   "execution_count": 56,
   "id": "71e319d0",
   "metadata": {
    "scrolled": true
   },
   "outputs": [],
   "source": [
    "# driver code\n",
    "# main()"
   ]
  }
 ],
 "metadata": {
  "kernelspec": {
   "display_name": "Python 3 (ipykernel)",
   "language": "python",
   "name": "python3"
  },
  "language_info": {
   "codemirror_mode": {
    "name": "ipython",
    "version": 3
   },
   "file_extension": ".py",
   "mimetype": "text/x-python",
   "name": "python",
   "nbconvert_exporter": "python",
   "pygments_lexer": "ipython3",
   "version": "3.9.13"
  }
 },
 "nbformat": 4,
 "nbformat_minor": 5
}
