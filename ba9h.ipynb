{
 "cells": [
  {
   "cell_type": "markdown",
   "id": "157cc3a2",
   "metadata": {},
   "source": [
    "## Task ba9h"
   ]
  },
  {
   "cell_type": "code",
   "execution_count": 78,
   "id": "9021f55b",
   "metadata": {},
   "outputs": [],
   "source": [
    "def read_data(fname='rosalind_ba9h.txt'):\n",
    "    p_list = []\n",
    "    with open(fname, 'r') as f:\n",
    "        s = f.readline().strip()\n",
    "        while 1:\n",
    "            s2 = f.readline()\n",
    "            if s2 != '':\n",
    "                p_list.append(s2.strip())\n",
    "            else:\n",
    "                break\n",
    "    return s, p_list"
   ]
  },
  {
   "cell_type": "code",
   "execution_count": 10,
   "id": "9019777a",
   "metadata": {},
   "outputs": [],
   "source": [
    "def get_list_of_suffixes(s):\n",
    "    # return suffix as well as its index and 2 placeholders for 2 rank variables\n",
    "    return [[s[i:], i, None, None] for i in range(len(s))]"
   ]
  },
  {
   "cell_type": "code",
   "execution_count": 19,
   "id": "a01cf90f",
   "metadata": {},
   "outputs": [],
   "source": [
    "def get_suffix_array(s):\n",
    "    n = len(s)\n",
    "    # nlog^2n algorithm\n",
    "    suf = get_list_of_suffixes(s)\n",
    "    \n",
    "    #2 character sort\n",
    "    for i in range(n):\n",
    "        suf[i][2] = ord(s[i]) - ord(\"a\") # ranks for 1st character\n",
    "        suf[i][3] = ord(s[i+1]) - ord(\"a\") if i + 1 < n else -1\n",
    "    suf = sorted(suf, key = lambda x: (x[2], x[3]))\n",
    "\n",
    "    #k = 2^i character sort (i >=2)\n",
    "    idxs = [0] * n\n",
    "    k = 4\n",
    "    # first suffix\n",
    "    while k < n * 2:\n",
    "        cur_rank = 0\n",
    "        prev_rank = suf[0][2]\n",
    "        suf[0][2] = cur_rank\n",
    "        idxs[suf[0][1]] = 0\n",
    "        \n",
    "        #rest\n",
    "        for i in range(1, n):\n",
    "            # compare by pair of ranks\n",
    "            if suf[i][2] == prev_rank and suf[i][3] == suf[i-1][3]:\n",
    "                prev_rank = suf[i][2]\n",
    "                suf[i][2] = cur_rank\n",
    "            \n",
    "            else:\n",
    "                prev_rank = suf[i][2]\n",
    "                cur_rank += 1\n",
    "                suf[i][2] = cur_rank\n",
    "            \n",
    "            idxs[suf[i][1]] = i\n",
    "            \n",
    "        # fill 2nd rank var for each suffix\n",
    "        for i in range(n):\n",
    "            next_idx = suf[i][1] + k // 2\n",
    "            suf[i][3] = suf[idxs[next_idx]][2] if next_idx < n else -1\n",
    "            \n",
    "        # sort by rank pair again\n",
    "        suf = sorted(suf, key = lambda x: (x[2], x[3]))\n",
    "        k *= 2\n",
    "        \n",
    "    suf_arr = [elem[1] for elem in suf]\n",
    "    return suf_arr"
   ]
  },
  {
   "cell_type": "code",
   "execution_count": 130,
   "id": "5c38f592",
   "metadata": {},
   "outputs": [],
   "source": [
    "def search_pattern(s, p, suf_arr=None):\n",
    "    if suf_arr is None:\n",
    "        suf_arr = get_suffix_array(s)\n",
    "    n = len(s)\n",
    "    m = len(p)\n",
    "#     print(suf_arr)\n",
    "    suffs = get_list_of_suffixes(s)\n",
    "    # bin search for pattern in suffix arr\n",
    "    l, r = 0, n-1\n",
    "    while l <= r:\n",
    "        mid = l + (r - l) // 2\n",
    "        mid_suf = s[suf_arr[mid]:suf_arr[mid]+m]\n",
    "        if mid_suf == p:\n",
    "            l2 = l\n",
    "            r2 = r\n",
    "            # tighten the range of l and r since they may also match\n",
    "            while l2 <= mid:\n",
    "                l2_suf = s[suf_arr[l2]:suf_arr[l2]+m]\n",
    "                if l2_suf == p:\n",
    "                    break\n",
    "                l2 += 1\n",
    "            while r2 >= mid:\n",
    "                r2_suf = s[suf_arr[r2]:suf_arr[r2]+m]\n",
    "                if r2_suf == p:\n",
    "                    break\n",
    "                r2 -= 1\n",
    "            return [suf_arr[j] for j in range(l2,r2+1)]\n",
    "                \n",
    "        if p < mid_suf:\n",
    "            r = mid - 1\n",
    "        else:\n",
    "            l = mid + 1\n",
    "    return -1"
   ]
  },
  {
   "cell_type": "code",
   "execution_count": 138,
   "id": "c809c7ee",
   "metadata": {},
   "outputs": [],
   "source": [
    "def search_patterns(s, p_list):\n",
    "    suf_arr = get_suffix_array(s)\n",
    "    return sorted(list(set([elem for p in p_list for elem in search_pattern(s, p, suf_arr)])))"
   ]
  },
  {
   "cell_type": "code",
   "execution_count": 142,
   "id": "161b4904",
   "metadata": {},
   "outputs": [],
   "source": [
    "def main(fname='rosalind_ba9h.txt'):\n",
    "    s, p_list = read_data(fname)\n",
    "    res = search_patterns(s, p_list)\n",
    "    print(*res, sep=' ')"
   ]
  },
  {
   "cell_type": "code",
   "execution_count": 143,
   "id": "3beb27c6",
   "metadata": {},
   "outputs": [
    {
     "name": "stdout",
     "output_type": "stream",
     "text": [
      "1 4 11 15\n"
     ]
    }
   ],
   "source": [
    "main('sample_data/ba9h/sample.txt')"
   ]
  },
  {
   "cell_type": "code",
   "execution_count": 145,
   "id": "5b574600",
   "metadata": {},
   "outputs": [],
   "source": [
    "# driver code\n",
    "# main()"
   ]
  }
 ],
 "metadata": {
  "kernelspec": {
   "display_name": "Python 3 (ipykernel)",
   "language": "python",
   "name": "python3"
  },
  "language_info": {
   "codemirror_mode": {
    "name": "ipython",
    "version": 3
   },
   "file_extension": ".py",
   "mimetype": "text/x-python",
   "name": "python",
   "nbconvert_exporter": "python",
   "pygments_lexer": "ipython3",
   "version": "3.9.13"
  }
 },
 "nbformat": 4,
 "nbformat_minor": 5
}
